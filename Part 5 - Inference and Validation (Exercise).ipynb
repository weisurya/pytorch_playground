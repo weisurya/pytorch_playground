{
 "cells": [
  {
   "cell_type": "code",
   "execution_count": 31,
   "metadata": {},
   "outputs": [],
   "source": [
    "import torch\n",
    "import torch.nn.functional as F\n",
    "from torch import nn, optim\n",
    "\n",
    "import torchvision\n",
    "from torchvision import datasets, transforms\n",
    "\n",
    "import time\n",
    "\n",
    "%matplotlib inline\n",
    "%config InlineBackend.figure_format = 'retina'\n",
    "\n",
    "import matplotlib.pyplot as plt"
   ]
  },
  {
   "cell_type": "code",
   "execution_count": 2,
   "metadata": {},
   "outputs": [],
   "source": [
    "# Define a transform to normalize data\n",
    "transform = transforms.Compose([transforms.ToTensor(),\n",
    "                                transforms.Normalize((0.5,0.5,0.5), (0.5, 0.5, 0.5))])\n",
    "\n",
    "# Download and load the training data\n",
    "trainset = datasets.FashionMNIST('~/.pytorch/F_MNIST_data/', download=True, train=True, transform=transform)\n",
    "trainloader = torch.utils.data.DataLoader(trainset, batch_size=64, shuffle=True)\n",
    "\n",
    "# Download and load the test data\n",
    "testset = datasets.FashionMNIST('~/.pytorch/F_MNIST_data/', download=True, train=False, transform=transform)\n",
    "testloader = torch.utils.data.DataLoader(testset, batch_size=64, shuffle=True)"
   ]
  },
  {
   "cell_type": "code",
   "execution_count": 3,
   "metadata": {},
   "outputs": [],
   "source": [
    "class Classifier(nn.Module):\n",
    "    def __init__(self):\n",
    "        super().__init__()\n",
    "        self.fc1 = nn.Linear(784, 256)\n",
    "        self.fc2 = nn.Linear(256, 128)\n",
    "        self.fc3 = nn.Linear(128, 64)\n",
    "        self.fc4 = nn.Linear(64, 10)\n",
    "        \n",
    "    def forward(self, x):\n",
    "        # Flatten the input\n",
    "        x = x.view(x.shape[0], -1)\n",
    "        \n",
    "        x = F.relu(self.fc1(x))\n",
    "        x = F.relu(self.fc2(x))\n",
    "        x = F.relu(self.fc3(x))\n",
    "        x = F.log_softmax(self.fc4(x), dim=1)\n",
    "        \n",
    "        return x"
   ]
  },
  {
   "cell_type": "code",
   "execution_count": 4,
   "metadata": {},
   "outputs": [
    {
     "name": "stdout",
     "output_type": "stream",
     "text": [
      "torch.Size([64, 10])\n"
     ]
    }
   ],
   "source": [
    "model = Classifier()\n",
    "\n",
    "images, labels = next(iter(testloader))\n",
    "\n",
    "prob = torch.exp(model(images))\n",
    "\n",
    "print(prob.shape)"
   ]
  },
  {
   "cell_type": "code",
   "execution_count": 5,
   "metadata": {},
   "outputs": [
    {
     "name": "stdout",
     "output_type": "stream",
     "text": [
      "tensor([[1],\n",
      "        [1],\n",
      "        [9],\n",
      "        [1],\n",
      "        [9],\n",
      "        [9],\n",
      "        [1],\n",
      "        [9],\n",
      "        [1],\n",
      "        [9]])\n"
     ]
    }
   ],
   "source": [
    "top_prob, top_class = prob.topk(1, dim=1)\n",
    "print(top_class[:10, :])"
   ]
  },
  {
   "cell_type": "code",
   "execution_count": 6,
   "metadata": {},
   "outputs": [
    {
     "name": "stdout",
     "output_type": "stream",
     "text": [
      "torch.Size([64, 1])\n",
      "torch.uint8\n"
     ]
    }
   ],
   "source": [
    "equals = top_class == labels.view(*top_class.shape)\n",
    "print(equals.shape)\n",
    "print(equals.dtype)"
   ]
  },
  {
   "cell_type": "code",
   "execution_count": 7,
   "metadata": {},
   "outputs": [
    {
     "name": "stdout",
     "output_type": "stream",
     "text": [
      "Accuracy: 9.375%\n"
     ]
    }
   ],
   "source": [
    "accuracy = torch.mean(equals.type(torch.FloatTensor))\n",
    "print(f'Accuracy: {accuracy.item() * 100}%')"
   ]
  },
  {
   "cell_type": "code",
   "execution_count": 29,
   "metadata": {},
   "outputs": [
    {
     "name": "stdout",
     "output_type": "stream",
     "text": [
      "Using: cuda:0\n",
      "GeForce GTX 1060\n"
     ]
    }
   ],
   "source": [
    "device = torch.device(\"cuda:0\" if torch.cuda.is_available() else \"cpu\")\n",
    "print(\"Using: {}\".format(device))\n",
    "print(torch.cuda.get_device_name(0))\n",
    "\n",
    "model = Classifier()\n",
    "criterion = nn.NLLLoss()\n",
    "optimizer = optim.Adam(model.parameters(), lr=0.003)\n",
    "\n",
    "epochs = 30"
   ]
  },
  {
   "cell_type": "code",
   "execution_count": 30,
   "metadata": {},
   "outputs": [
    {
     "name": "stdout",
     "output_type": "stream",
     "text": [
      "Epoch: 1/30..  Training Loss: 0.510..  Test Loss: 0.452..  Test Accuracy: 0.841.. \n",
      "Epoch: 2/30..  Training Loss: 0.395..  Test Loss: 0.401..  Test Accuracy: 0.858.. \n",
      "Epoch: 3/30..  Training Loss: 0.355..  Test Loss: 0.403..  Test Accuracy: 0.854.. \n",
      "Epoch: 4/30..  Training Loss: 0.331..  Test Loss: 0.401..  Test Accuracy: 0.856.. \n",
      "Epoch: 5/30..  Training Loss: 0.312..  Test Loss: 0.379..  Test Accuracy: 0.870.. \n",
      "Epoch: 6/30..  Training Loss: 0.301..  Test Loss: 0.378..  Test Accuracy: 0.870.. \n",
      "Epoch: 7/30..  Training Loss: 0.291..  Test Loss: 0.371..  Test Accuracy: 0.871.. \n",
      "Epoch: 8/30..  Training Loss: 0.279..  Test Loss: 0.357..  Test Accuracy: 0.877.. \n",
      "Epoch: 9/30..  Training Loss: 0.267..  Test Loss: 0.357..  Test Accuracy: 0.882.. \n",
      "Epoch: 10/30..  Training Loss: 0.269..  Test Loss: 0.367..  Test Accuracy: 0.875.. \n",
      "Epoch: 11/30..  Training Loss: 0.254..  Test Loss: 0.376..  Test Accuracy: 0.875.. \n",
      "Epoch: 12/30..  Training Loss: 0.252..  Test Loss: 0.361..  Test Accuracy: 0.879.. \n",
      "Epoch: 13/30..  Training Loss: 0.245..  Test Loss: 0.361..  Test Accuracy: 0.883.. \n",
      "Epoch: 14/30..  Training Loss: 0.237..  Test Loss: 0.373..  Test Accuracy: 0.880.. \n",
      "Epoch: 15/30..  Training Loss: 0.230..  Test Loss: 0.382..  Test Accuracy: 0.879.. \n",
      "Epoch: 16/30..  Training Loss: 0.233..  Test Loss: 0.394..  Test Accuracy: 0.878.. \n",
      "Epoch: 17/30..  Training Loss: 0.225..  Test Loss: 0.370..  Test Accuracy: 0.882.. \n",
      "Epoch: 18/30..  Training Loss: 0.218..  Test Loss: 0.376..  Test Accuracy: 0.880.. \n",
      "Epoch: 19/30..  Training Loss: 0.210..  Test Loss: 0.391..  Test Accuracy: 0.877.. \n",
      "Epoch: 20/30..  Training Loss: 0.212..  Test Loss: 0.374..  Test Accuracy: 0.886.. \n",
      "Epoch: 21/30..  Training Loss: 0.211..  Test Loss: 0.374..  Test Accuracy: 0.885.. \n",
      "Epoch: 22/30..  Training Loss: 0.204..  Test Loss: 0.400..  Test Accuracy: 0.880.. \n",
      "Epoch: 23/30..  Training Loss: 0.200..  Test Loss: 0.418..  Test Accuracy: 0.876.. \n",
      "Epoch: 24/30..  Training Loss: 0.200..  Test Loss: 0.413..  Test Accuracy: 0.883.. \n",
      "Epoch: 25/30..  Training Loss: 0.196..  Test Loss: 0.439..  Test Accuracy: 0.878.. \n",
      "Epoch: 26/30..  Training Loss: 0.200..  Test Loss: 0.407..  Test Accuracy: 0.887.. \n",
      "Epoch: 27/30..  Training Loss: 0.182..  Test Loss: 0.405..  Test Accuracy: 0.886.. \n",
      "Epoch: 28/30..  Training Loss: 0.189..  Test Loss: 0.412..  Test Accuracy: 0.883.. \n",
      "Epoch: 29/30..  Training Loss: 0.185..  Test Loss: 0.421..  Test Accuracy: 0.885.. \n",
      "Epoch: 30/30..  Training Loss: 0.180..  Test Loss: 0.421..  Test Accuracy: 0.877.. \n"
     ]
    }
   ],
   "source": [
    "train_losses, test_losses = [], []\n",
    "for e in range(epochs):\n",
    "    train_loss = 0\n",
    "    \n",
    "    for images, labels in trainloader:\n",
    "        images.to(device)\n",
    "        labels.to(device)\n",
    "        \n",
    "        optimizer.zero_grad()\n",
    "        \n",
    "        y_hat = model(images)\n",
    "        loss = criterion(y_hat, labels)\n",
    "        loss.backward()\n",
    "        optimizer.step()\n",
    "        \n",
    "        train_loss += loss.item()\n",
    "        \n",
    "    else:\n",
    "        test_loss = 0\n",
    "        accuracy = 0\n",
    "        \n",
    "        # Turn off the gradient for validation\n",
    "        with torch.no_grad():\n",
    "            for images, labels in testloader:\n",
    "                images.to(device)\n",
    "                labels.to(device)\n",
    "        \n",
    "                y_hat = model(images)\n",
    "                test_loss += criterion(y_hat, labels)\n",
    "                \n",
    "                prob = torch.exp(y_hat)\n",
    "                top_prob, top_class = prob.topk(1, dim=1)\n",
    "                equals = top_class == labels.view((*top_class.shape))\n",
    "                \n",
    "                accuracy += torch.mean(equals.type(torch.FloatTensor))\n",
    "                \n",
    "        train_losses.append(train_loss/len(trainloader))\n",
    "        test_losses.append(test_loss/len(testloader))\n",
    "        \n",
    "        print(\"Epoch: {}/{}.. \".format(e+1, epochs),\n",
    "              \"Training Loss: {:.3f}.. \".format(train_loss/len(trainloader)),\n",
    "              \"Test Loss: {:.3f}.. \".format(test_loss/len(testloader)),\n",
    "              \"Test Accuracy: {:.3f}.. \".format(accuracy/len(testloader))\n",
    "             )"
   ]
  },
  {
   "cell_type": "code",
   "execution_count": 33,
   "metadata": {},
   "outputs": [
    {
     "data": {
      "text/plain": [
       "<matplotlib.legend.Legend at 0x1db680a17f0>"
      ]
     },
     "execution_count": 33,
     "metadata": {},
     "output_type": "execute_result"
    },
    {
     "data": {
      "image/png": "[encoded data removed]",
      "text/plain": [
       "<Figure size 432x288 with 1 Axes>"
      ]
     },
     "metadata": {
      "image/png": {
       "height": 250,
       "width": 380
      },
      "needs_background": "light"
     },
     "output_type": "display_data"
    }
   ],
   "source": [
    "plt.plot(train_losses, label='Training loss')\n",
    "plt.plot(test_losses, label='Test loss')\n",
    "plt.legend(frameon=False)"
   ]
  },
  {
   "cell_type": "markdown",
   "metadata": {},
   "source": [
    "This is an overfitting"
   ]
  },
  {
   "cell_type": "code",
   "execution_count": null,
   "metadata": {},
   "outputs": [],
   "source": []
  }
 ],
 "metadata": {
  "kernelspec": {
   "display_name": "Python 3",
   "language": "python",
   "name": "python3"
  },
  "language_info": {
   "codemirror_mode": {
    "name": "ipython",
    "version": 3
   },
   "file_extension": ".py",
   "mimetype": "text/x-python",
   "name": "python",
   "nbconvert_exporter": "python",
   "pygments_lexer": "ipython3",
   "version": "3.6.7"
  }
 },
 "nbformat": 4,
 "nbformat_minor": 2
}
